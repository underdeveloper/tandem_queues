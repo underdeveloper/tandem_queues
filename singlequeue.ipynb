{
 "cells": [
  {
   "cell_type": "markdown",
   "metadata": {},
   "source": [
    "Adapted from [Willie Wheeler's single-queue network simulation](https://medium.com/wwblog/simulating-an-m-m-1-queue-in-python-f894f5a68db2)."
   ]
  },
  {
   "cell_type": "code",
   "execution_count": 9,
   "metadata": {},
   "outputs": [],
   "source": [
    "# Imports\n",
    "import numpy as np\n",
    "import pandas as pd\n",
    "import random\n",
    "import matplotlib.pyplot as plt\n",
    "from IPython.display import Markdown"
   ]
  },
  {
   "cell_type": "code",
   "execution_count": 10,
   "metadata": {},
   "outputs": [],
   "source": [
    "# Constants, etc.\n",
    "rng = np.random.default_rng(34)\n",
    "\n",
    "TITLE_SIZE = 18\n",
    "HIST_BINS = 51"
   ]
  },
  {
   "cell_type": "markdown",
   "metadata": {},
   "source": [
    "## Queue structure\n",
    "\n",
    "The system is an open queue system.\n",
    "\n",
    "Arrival -> =====](Q1) -> =====](Q2) -> Departure\n",
    "\n",
    "Little's Law:\n",
    "$$ {\\mathbb E}[N] = \\lambda {\\mathbb E}[T] $$"
   ]
  },
  {
   "cell_type": "code",
   "execution_count": 11,
   "metadata": {},
   "outputs": [],
   "source": [
    "# Arrival\n",
    "# Arrival time is uniform, interarrival time has boundaries of [1, 5] (mean time of 3s)\n",
    "\n",
    "# Queue Q1\n",
    "# Service time is exponential, service rate m1 = 0.5/s (mean time of 2s)\n",
    "\n",
    "# Queue Q2\n",
    "# Service time is uniform, with boundaries of [1, 3] (mean time of 2s)"
   ]
  },
  {
   "cell_type": "code",
   "execution_count": 17,
   "metadata": {},
   "outputs": [],
   "source": [
    "def create_params(num_jobs: int, mean_interarrival_time: float, mean_interarrival_range: float, mean_service_time_1: float, mean_service_time_2: float, mean_service_time_2_range: float):\n",
    "    return {\n",
    "        \"n\": num_jobs,\n",
    "        \"mean_interarrival_time\": mean_interarrival_time,\n",
    "        \"mean_interarrival_low\": mean_interarrival_time - mean_interarrival_range/2,\n",
    "        \"mean_interarrival_high\": mean_interarrival_time + mean_interarrival_range/2,\n",
    "        \"mean_service_time_1\": mean_service_time_1,\n",
    "        \"mean_service_time_2\": mean_service_time_2,\n",
    "        \"mean_service_time_2_low\": mean_service_time_2 - mean_service_time_2_range/2,\n",
    "        \"mean_service_time_2_high\": mean_service_time_2 + mean_service_time_2_range/2,\n",
    "        \"mean_arrival_rate\": 1.0 / mean_interarrival_time,\n",
    "        \"mean_service_rate_1\": 1.0 / mean_service_time_1,\n",
    "        \"mean_service_rate_2\": 1.0 / mean_service_time_2,\n",
    "        \"num_bins\": int(num_jobs * mean_interarrival_time)\n",
    "    }\n",
    "\n",
    "def run_simulation(params):\n",
    "    # Extracting parameters\n",
    "    n = params[\"n\"]\n",
    "    iat = params[\"mean_interarrival_time\"]\n",
    "    ial = params[\"mean_interrarival_low\"]\n",
    "    iah = params[\"mean_interarrival_high\"]\n",
    "    st1 = params[\"mean_service_time_1\"]\n",
    "    st2 = params[\"mean_service_time_2\"]\n",
    "    st2l = params[\"mean_service_time_2_low\"]\n",
    "    st2h = params[\"mean_service_time_2_high\"]\n",
    "\n",
    "    # Sim data\n",
    "    interarrival_times = rng.uniform(low=ial, high=iah, size=n)\n",
    "    arrival_times = np.cumsum(interarrival_times)\n",
    "    service_1_times = rng.exponential(scale=st1, size=n)\n",
    "    service_2_times = rng.uniform(low=st2l, high= st2h, size=n)\n",
    "\n"
   ]
  },
  {
   "cell_type": "code",
   "execution_count": null,
   "metadata": {},
   "outputs": [],
   "source": []
  }
 ],
 "metadata": {
  "interpreter": {
   "hash": "83d4c235f93a0d2ab3991b9664758375175be31bd45f50b8db204587436448dc"
  },
  "kernelspec": {
   "display_name": "Python 3.10.4 64-bit",
   "language": "python",
   "name": "python3"
  },
  "language_info": {
   "codemirror_mode": {
    "name": "ipython",
    "version": 3
   },
   "file_extension": ".py",
   "mimetype": "text/x-python",
   "name": "python",
   "nbconvert_exporter": "python",
   "pygments_lexer": "ipython3",
   "version": "3.10.4"
  },
  "orig_nbformat": 4
 },
 "nbformat": 4,
 "nbformat_minor": 2
}
