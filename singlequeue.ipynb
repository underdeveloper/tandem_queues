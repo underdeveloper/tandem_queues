{
 "cells": [
  {
   "cell_type": "markdown",
   "metadata": {},
   "source": [
    "Created to simulate a tandem of two single-service queue system."
   ]
  },
  {
   "cell_type": "markdown",
   "metadata": {},
   "source": [
    "Adapted from [Willie Wheeler's single-queue network simulation](https://medium.com/wwblog/simulating-an-m-m-1-queue-in-python-f894f5a68db2)."
   ]
  },
  {
   "cell_type": "code",
   "execution_count": 1,
   "metadata": {},
   "outputs": [],
   "source": [
    "# Imports\n",
    "import numpy as np\n",
    "import pandas as pd\n",
    "import matplotlib.pyplot as plt\n",
    "from matplotlib.patches import Patch"
   ]
  },
  {
   "cell_type": "code",
   "execution_count": 2,
   "metadata": {},
   "outputs": [],
   "source": [
    "# Constants, etc.\n",
    "rng = np.random.default_rng(34)"
   ]
  },
  {
   "cell_type": "markdown",
   "metadata": {},
   "source": [
    "# Queue structure\n",
    "\n",
    "The system is an open queue system.\n",
    "\n",
    "Arrival -> =====](Q1) -> =====](Q2) -> Departure\n",
    "\n",
    "## Arrival\n",
    "Arrival time is uniform, interarrival time has boundaries of [1, 5] (mean time of 3s)\n",
    "\n",
    "## Queue Q1\n",
    "Service time is exponential, service rate m1 = 0.5/s (mean time of 2s)\n",
    "\n",
    "## Queue Q2\n",
    "Service time is uniform, with boundaries of [1, 3] (mean time of 2s)"
   ]
  },
  {
   "cell_type": "markdown",
   "metadata": {},
   "source": [
    "# Simulation\n",
    "\n",
    "Basically just creating arrival times and service times according to the given distributions."
   ]
  },
  {
   "cell_type": "code",
   "execution_count": 3,
   "metadata": {},
   "outputs": [],
   "source": [
    "def create_params(num_customers: int, mean_interarrival_time: float, mean_interarrival_range: float, mean_service_time_1: float, mean_service_time_2: float, mean_service_time_2_range: float):\n",
    "    return {\n",
    "        \"n\": num_customers,\n",
    "        \"mean_interarrival_time\": mean_interarrival_time,\n",
    "        \"mean_interarrival_low\": mean_interarrival_time - mean_interarrival_range/2,\n",
    "        \"mean_interarrival_high\": mean_interarrival_time + mean_interarrival_range/2,\n",
    "        \"mean_service_time_1\": mean_service_time_1,\n",
    "        \"mean_service_time_2\": mean_service_time_2,\n",
    "        \"mean_service_time_2_low\": mean_service_time_2 - mean_service_time_2_range/2,\n",
    "        \"mean_service_time_2_high\": mean_service_time_2 + mean_service_time_2_range/2,\n",
    "        \"mean_arrival_rate\": 1.0 / mean_interarrival_time,\n",
    "        \"mean_service_rate_1\": 1.0 / mean_service_time_1,\n",
    "        \"mean_service_rate_2\": 1.0 / mean_service_time_2,\n",
    "        \"num_bins\": int(num_customers * mean_interarrival_time)\n",
    "    }"
   ]
  },
  {
   "cell_type": "code",
   "execution_count": 4,
   "metadata": {},
   "outputs": [],
   "source": [
    "def build_customers_dataframe(params, interarrival_times, arrival_times, service_1_times, service_2_times):\n",
    "    n = params[\"n\"]\n",
    "\n",
    "    customers_df = pd.DataFrame({\n",
    "        \"interarrival_time\": interarrival_times,\n",
    "        \"arrival_time\": arrival_times, # When the customer arrives in the system\n",
    "        \"service_time_1\": service_1_times, # How long the customer is serviced in service 1\n",
    "        \"service_time_2\": service_2_times, # How long the customer is serviced in service 2\n",
    "        \"start_time_1\": np.zeros(n), # When the customer starts being serviced in service 1\n",
    "        \"depart_time_1\": np.zeros(n), # When the customer is done being serviced by service 1\n",
    "        \"start_time_2\": np.zeros(n), # When the customer starts being serviced in service 2\n",
    "        \"depart_time_2\": np.zeros(n), # When the customer departs from the system (aka done being serviced by service 2)\n",
    "        \"response_time\": np.zeros(n), # How long the customer spends within the system\n",
    "        \"wait_time_1\": np.zeros(n), # How long the customer waits in queue 1\n",
    "        \"wait_time_2\": np.zeros(n), # How long the customer waits in queue 2\n",
    "    })\n",
    "\n",
    "    # The first customer is the easiest to document\n",
    "    customers_df.loc[0, \"start_time_1\"] = customers_df.loc[0, \"arrival_time\"]\n",
    "    customers_df.loc[0, \"depart_time_1\"] = customers_df.loc[0, \"start_time_1\"] + customers_df.loc[0, \"service_time_1\"]\n",
    "    customers_df.loc[0, \"start_time_2\"] = customers_df.loc[0, \"depart_time_1\"]\n",
    "    customers_df.loc[0, \"depart_time_2\"] = customers_df.loc[0, \"start_time_2\"] + customers_df.loc[0, \"service_time_2\"]\n",
    "\n",
    "    # Each customer has to wait for the previous customer(s) to finish their stuff first\n",
    "    for i in range(1, n):\n",
    "        # Customer i can only start when customer i-1 is done with the service at hand\n",
    "        customers_df.loc[i, \"start_time_1\"] = max(customers_df.loc[i, \"arrival_time\"], customers_df.loc[i-1, \"depart_time_1\"])\n",
    "        customers_df.loc[i, \"depart_time_1\"] = customers_df.loc[i, \"start_time_1\"] + customers_df.loc[i, \"service_time_1\"]\n",
    "        customers_df.loc[i, \"start_time_2\"] = max(customers_df.loc[i, \"depart_time_1\"], customers_df.loc[i-1, \"depart_time_2\"])\n",
    "        customers_df.loc[i, \"depart_time_2\"] = customers_df.loc[i, \"start_time_2\"] + customers_df.loc[i, \"service_time_2\"]\n",
    "\n",
    "    customers_df[\"response_time\"] = customers_df[\"depart_time_2\"] - customers_df[\"arrival_time\"]\n",
    "    customers_df[\"wait_time_1\"] = customers_df[\"start_time_1\"] - customers_df[\"arrival_time\"]\n",
    "    customers_df[\"wait_time_2\"] = customers_df[\"start_time_2\"] - customers_df[\"depart_time_1\"]\n",
    "\n",
    "    return customers_df    "
   ]
  },
  {
   "cell_type": "code",
   "execution_count": 5,
   "metadata": {},
   "outputs": [],
   "source": [
    "def run_simulation(params):\n",
    "    # Extracting parameters\n",
    "    n = params[\"n\"]\n",
    "    iat = params[\"mean_interarrival_time\"]\n",
    "    ial = params[\"mean_interarrival_low\"]\n",
    "    iah = params[\"mean_interarrival_high\"]\n",
    "    st1 = params[\"mean_service_time_1\"]\n",
    "    st2 = params[\"mean_service_time_2\"]\n",
    "    st2l = params[\"mean_service_time_2_low\"]\n",
    "    st2h = params[\"mean_service_time_2_high\"]\n",
    "\n",
    "    # Sim data\n",
    "    interarrival_times = rng.uniform(low=ial, high=iah, size=n)\n",
    "    arrival_times = np.cumsum(interarrival_times)\n",
    "    service_1_times = rng.exponential(scale=st1, size=n)\n",
    "    service_2_times = rng.uniform(low=st2l, high= st2h, size=n)\n",
    "\n",
    "    customers_df = build_customers_dataframe(params, interarrival_times, arrival_times, service_1_times, service_2_times)\n",
    "\n",
    "    return customers_df"
   ]
  },
  {
   "cell_type": "markdown",
   "metadata": {},
   "source": [
    "# Testing code\n",
    "\n",
    "Checking whether or not the simulation works."
   ]
  },
  {
   "cell_type": "code",
   "execution_count": 6,
   "metadata": {},
   "outputs": [
    {
     "data": {
      "text/html": [
       "<div>\n",
       "<style scoped>\n",
       "    .dataframe tbody tr th:only-of-type {\n",
       "        vertical-align: middle;\n",
       "    }\n",
       "\n",
       "    .dataframe tbody tr th {\n",
       "        vertical-align: top;\n",
       "    }\n",
       "\n",
       "    .dataframe thead th {\n",
       "        text-align: right;\n",
       "    }\n",
       "</style>\n",
       "<table border=\"1\" class=\"dataframe\">\n",
       "  <thead>\n",
       "    <tr style=\"text-align: right;\">\n",
       "      <th></th>\n",
       "      <th>interarrival_time</th>\n",
       "      <th>arrival_time</th>\n",
       "      <th>service_time_1</th>\n",
       "      <th>service_time_2</th>\n",
       "      <th>start_time_1</th>\n",
       "      <th>depart_time_1</th>\n",
       "      <th>start_time_2</th>\n",
       "      <th>depart_time_2</th>\n",
       "      <th>response_time</th>\n",
       "      <th>wait_time_1</th>\n",
       "      <th>wait_time_2</th>\n",
       "    </tr>\n",
       "  </thead>\n",
       "  <tbody>\n",
       "    <tr>\n",
       "      <th>0</th>\n",
       "      <td>1.016113</td>\n",
       "      <td>1.016113</td>\n",
       "      <td>1.296557</td>\n",
       "      <td>2.882981</td>\n",
       "      <td>1.016113</td>\n",
       "      <td>2.312670</td>\n",
       "      <td>2.312670</td>\n",
       "      <td>5.195652</td>\n",
       "      <td>4.179539</td>\n",
       "      <td>0.000000</td>\n",
       "      <td>0.000000</td>\n",
       "    </tr>\n",
       "    <tr>\n",
       "      <th>1</th>\n",
       "      <td>4.488708</td>\n",
       "      <td>5.504821</td>\n",
       "      <td>1.409844</td>\n",
       "      <td>2.387604</td>\n",
       "      <td>5.504821</td>\n",
       "      <td>6.914664</td>\n",
       "      <td>6.914664</td>\n",
       "      <td>9.302268</td>\n",
       "      <td>3.797448</td>\n",
       "      <td>0.000000</td>\n",
       "      <td>0.000000</td>\n",
       "    </tr>\n",
       "    <tr>\n",
       "      <th>2</th>\n",
       "      <td>1.970970</td>\n",
       "      <td>7.475790</td>\n",
       "      <td>1.907014</td>\n",
       "      <td>1.307079</td>\n",
       "      <td>7.475790</td>\n",
       "      <td>9.382804</td>\n",
       "      <td>9.382804</td>\n",
       "      <td>10.689883</td>\n",
       "      <td>3.214093</td>\n",
       "      <td>0.000000</td>\n",
       "      <td>0.000000</td>\n",
       "    </tr>\n",
       "    <tr>\n",
       "      <th>3</th>\n",
       "      <td>3.604245</td>\n",
       "      <td>11.080035</td>\n",
       "      <td>1.674852</td>\n",
       "      <td>2.150709</td>\n",
       "      <td>11.080035</td>\n",
       "      <td>12.754887</td>\n",
       "      <td>12.754887</td>\n",
       "      <td>14.905597</td>\n",
       "      <td>3.825561</td>\n",
       "      <td>0.000000</td>\n",
       "      <td>0.000000</td>\n",
       "    </tr>\n",
       "    <tr>\n",
       "      <th>4</th>\n",
       "      <td>2.936370</td>\n",
       "      <td>14.016405</td>\n",
       "      <td>0.385494</td>\n",
       "      <td>2.080945</td>\n",
       "      <td>14.016405</td>\n",
       "      <td>14.401899</td>\n",
       "      <td>14.905597</td>\n",
       "      <td>16.986541</td>\n",
       "      <td>2.970137</td>\n",
       "      <td>0.000000</td>\n",
       "      <td>0.503697</td>\n",
       "    </tr>\n",
       "    <tr>\n",
       "      <th>...</th>\n",
       "      <td>...</td>\n",
       "      <td>...</td>\n",
       "      <td>...</td>\n",
       "      <td>...</td>\n",
       "      <td>...</td>\n",
       "      <td>...</td>\n",
       "      <td>...</td>\n",
       "      <td>...</td>\n",
       "      <td>...</td>\n",
       "      <td>...</td>\n",
       "      <td>...</td>\n",
       "    </tr>\n",
       "    <tr>\n",
       "      <th>495</th>\n",
       "      <td>2.546238</td>\n",
       "      <td>1494.158906</td>\n",
       "      <td>1.647598</td>\n",
       "      <td>1.738314</td>\n",
       "      <td>1494.158906</td>\n",
       "      <td>1495.806504</td>\n",
       "      <td>1497.468775</td>\n",
       "      <td>1499.207089</td>\n",
       "      <td>5.048183</td>\n",
       "      <td>0.000000</td>\n",
       "      <td>1.662272</td>\n",
       "    </tr>\n",
       "    <tr>\n",
       "      <th>496</th>\n",
       "      <td>4.926428</td>\n",
       "      <td>1499.085333</td>\n",
       "      <td>3.141192</td>\n",
       "      <td>1.049107</td>\n",
       "      <td>1499.085333</td>\n",
       "      <td>1502.226526</td>\n",
       "      <td>1502.226526</td>\n",
       "      <td>1503.275632</td>\n",
       "      <td>4.190299</td>\n",
       "      <td>0.000000</td>\n",
       "      <td>0.000000</td>\n",
       "    </tr>\n",
       "    <tr>\n",
       "      <th>497</th>\n",
       "      <td>3.252912</td>\n",
       "      <td>1502.338246</td>\n",
       "      <td>3.080289</td>\n",
       "      <td>2.630679</td>\n",
       "      <td>1502.338246</td>\n",
       "      <td>1505.418535</td>\n",
       "      <td>1505.418535</td>\n",
       "      <td>1508.049214</td>\n",
       "      <td>5.710968</td>\n",
       "      <td>0.000000</td>\n",
       "      <td>0.000000</td>\n",
       "    </tr>\n",
       "    <tr>\n",
       "      <th>498</th>\n",
       "      <td>1.527312</td>\n",
       "      <td>1503.865558</td>\n",
       "      <td>0.397625</td>\n",
       "      <td>2.464443</td>\n",
       "      <td>1505.418535</td>\n",
       "      <td>1505.816160</td>\n",
       "      <td>1508.049214</td>\n",
       "      <td>1510.513657</td>\n",
       "      <td>6.648099</td>\n",
       "      <td>1.552977</td>\n",
       "      <td>2.233054</td>\n",
       "    </tr>\n",
       "    <tr>\n",
       "      <th>499</th>\n",
       "      <td>3.212178</td>\n",
       "      <td>1507.077735</td>\n",
       "      <td>0.109530</td>\n",
       "      <td>1.553007</td>\n",
       "      <td>1507.077735</td>\n",
       "      <td>1507.187265</td>\n",
       "      <td>1510.513657</td>\n",
       "      <td>1512.066664</td>\n",
       "      <td>4.988928</td>\n",
       "      <td>0.000000</td>\n",
       "      <td>3.326392</td>\n",
       "    </tr>\n",
       "  </tbody>\n",
       "</table>\n",
       "<p>500 rows × 11 columns</p>\n",
       "</div>"
      ],
      "text/plain": [
       "     interarrival_time  arrival_time  service_time_1  service_time_2  \\\n",
       "0             1.016113      1.016113        1.296557        2.882981   \n",
       "1             4.488708      5.504821        1.409844        2.387604   \n",
       "2             1.970970      7.475790        1.907014        1.307079   \n",
       "3             3.604245     11.080035        1.674852        2.150709   \n",
       "4             2.936370     14.016405        0.385494        2.080945   \n",
       "..                 ...           ...             ...             ...   \n",
       "495           2.546238   1494.158906        1.647598        1.738314   \n",
       "496           4.926428   1499.085333        3.141192        1.049107   \n",
       "497           3.252912   1502.338246        3.080289        2.630679   \n",
       "498           1.527312   1503.865558        0.397625        2.464443   \n",
       "499           3.212178   1507.077735        0.109530        1.553007   \n",
       "\n",
       "     start_time_1  depart_time_1  start_time_2  depart_time_2  response_time  \\\n",
       "0        1.016113       2.312670      2.312670       5.195652       4.179539   \n",
       "1        5.504821       6.914664      6.914664       9.302268       3.797448   \n",
       "2        7.475790       9.382804      9.382804      10.689883       3.214093   \n",
       "3       11.080035      12.754887     12.754887      14.905597       3.825561   \n",
       "4       14.016405      14.401899     14.905597      16.986541       2.970137   \n",
       "..            ...            ...           ...            ...            ...   \n",
       "495   1494.158906    1495.806504   1497.468775    1499.207089       5.048183   \n",
       "496   1499.085333    1502.226526   1502.226526    1503.275632       4.190299   \n",
       "497   1502.338246    1505.418535   1505.418535    1508.049214       5.710968   \n",
       "498   1505.418535    1505.816160   1508.049214    1510.513657       6.648099   \n",
       "499   1507.077735    1507.187265   1510.513657    1512.066664       4.988928   \n",
       "\n",
       "     wait_time_1  wait_time_2  \n",
       "0       0.000000     0.000000  \n",
       "1       0.000000     0.000000  \n",
       "2       0.000000     0.000000  \n",
       "3       0.000000     0.000000  \n",
       "4       0.000000     0.503697  \n",
       "..           ...          ...  \n",
       "495     0.000000     1.662272  \n",
       "496     0.000000     0.000000  \n",
       "497     0.000000     0.000000  \n",
       "498     1.552977     2.233054  \n",
       "499     0.000000     3.326392  \n",
       "\n",
       "[500 rows x 11 columns]"
      ]
     },
     "execution_count": 6,
     "metadata": {},
     "output_type": "execute_result"
    }
   ],
   "source": [
    "customers = 500\n",
    "\n",
    "params = create_params(customers, 3, 4, 2, 2, 2)\n",
    "\n",
    "final = run_simulation(params)\n",
    "\n",
    "final"
   ]
  },
  {
   "cell_type": "code",
   "execution_count": 7,
   "metadata": {},
   "outputs": [
    {
     "data": {
      "image/png": "[encoded data removed]",
      "text/plain": [
       "<Figure size 1152x576 with 1 Axes>"
      ]
     },
     "metadata": {
      "needs_background": "light"
     },
     "output_type": "display_data"
    }
   ],
   "source": [
    "# The hard part: Plotting this so it looks good\n",
    "# Okay I know this isn't strictly needed for the homework but I just really like how Gantt Charts look\n",
    "cut = final[231:251]\n",
    "\n",
    "plt.figure(figsize=(16,8))\n",
    "plt.title(\"Schedule of customers in system\", size=15)\n",
    "plt.xlabel(\"Time (in seconds)\")\n",
    "plt.ylabel(\"Customer number\")\n",
    "plt.yticks(np.arange(min(cut.index), max(cut.index)+1, 1.0))\n",
    "legend_elements = [Patch(facecolor=\"lightgray\",label='Waiting period'), Patch(facecolor=\"limegreen\",label='Servicing period in Q1'), Patch(facecolor=\"green\",label='Servicing period in Q2')]\n",
    "plt.barh(\n",
    "    y = cut.index,\n",
    "    left = cut[\"arrival_time\"],\n",
    "    width = cut[\"response_time\"],\n",
    "    alpha = 1.0,\n",
    "    color = \"lightgray\"\n",
    ")\n",
    "plt.barh(\n",
    "    y = cut.index,\n",
    "    left = cut[\"start_time_1\"],\n",
    "    width = cut[\"service_time_1\"],\n",
    "    alpha = 1.0,\n",
    "    color = \"limegreen\"\n",
    ")\n",
    "plt.barh(\n",
    "    y = cut.index,\n",
    "    left = cut[\"start_time_2\"],\n",
    "    width = cut[\"service_time_2\"],\n",
    "    alpha = 1.0,\n",
    "    color = \"green\"\n",
    ")\n",
    "plt.legend(handles=legend_elements)\n",
    "plt.gca().invert_yaxis()\n",
    "plt.grid(axis=\"x\")\n",
    "plt.show()"
   ]
  },
  {
   "cell_type": "markdown",
   "metadata": {},
   "source": [
    "# Getting data and stuff"
   ]
  },
  {
   "cell_type": "code",
   "execution_count": 20,
   "metadata": {},
   "outputs": [],
   "source": [
    "def get_measures(customers_df: pd.DataFrame):\n",
    "    return {\n",
    "        \"mean_response_time\": customers_df[\"response_time\"].mean(),\n",
    "        \"std_response_time\": customers_df[\"response_time\"].std(),\n",
    "        \"mean_wait_time_1\": customers_df[\"wait_time_1\"].mean(),\n",
    "        \"std_wait_time_1\": customers_df[\"wait_time_1\"].std(),\n",
    "        \"mean_wait_time_2\": customers_df[\"wait_time_2\"].mean(),\n",
    "        \"std_wait_time_2\": customers_df[\"wait_time_2\"].std()\n",
    "    }\n",
    "\n",
    "def display_measures(customers_df: pd.DataFrame):\n",
    "    measures = get_measures(customers_df)\n",
    "\n",
    "    print('''\n",
    "Response time (T):\n",
    "    mean = %.3f seconds,\n",
    "    standard deviation = %.3f seconds\n",
    "\n",
    "Wait time in the queue of Q1 (Tq1):\n",
    "    mean = %.3f seconds,\n",
    "    standard deviation = %.3f seconds\n",
    "\n",
    "Wait time in the queue of Q1 (Tq1):\n",
    "    mean = %.3f seconds,\n",
    "    standard deviation = %.3f seconds\n",
    "''' % (measures[\"mean_response_time\"], measures[\"std_response_time\"], measures[\"mean_wait_time_1\"], measures[\"std_wait_time_1\"], measures[\"mean_wait_time_2\"], measures[\"std_wait_time_2\"]))"
   ]
  },
  {
   "cell_type": "code",
   "execution_count": 39,
   "metadata": {},
   "outputs": [
    {
     "name": "stdout",
     "output_type": "stream",
     "text": [
      "[6.11597262076753, 2.9036871112456843, 1.1519869564641094, 2.1155307307702076, 1.0509745422814838, 1.3755755573619006]\n",
      "\n",
      "Response time (T):\n",
      "    mean = 6.116 seconds,\n",
      "    standard deviation = 2.904 seconds\n",
      "\n",
      "Wait time in the queue of Q1 (Tq1):\n",
      "    mean = 1.152 seconds,\n",
      "    standard deviation = 2.116 seconds\n",
      "\n",
      "Wait time in the queue of Q1 (Tq1):\n",
      "    mean = 1.051 seconds,\n",
      "    standard deviation = 1.376 seconds\n",
      "\n"
     ]
    }
   ],
   "source": [
    "scenario1 = run_simulation(create_params(500, 3, 4, 2, 2, 2))\n",
    "\n",
    "display_measures(scenario1)"
   ]
  },
  {
   "cell_type": "code",
   "execution_count": 24,
   "metadata": {},
   "outputs": [
    {
     "name": "stdout",
     "output_type": "stream",
     "text": [
      "\n",
      "Response time (T):\n",
      "    mean = 7.393 seconds,\n",
      "    standard deviation = 4.335 seconds\n",
      "\n",
      "Wait time in the queue of Q1 (Tq1):\n",
      "    mean = 1.944 seconds,\n",
      "    standard deviation = 3.289 seconds\n",
      "\n",
      "Wait time in the queue of Q1 (Tq1):\n",
      "    mean = 1.441 seconds,\n",
      "    standard deviation = 2.120 seconds\n",
      "\n"
     ]
    }
   ],
   "source": [
    "scenario2 = run_simulation(create_params(1000, 3, 4, 2, 2, 2))\n",
    "\n",
    "display_measures(scenario2)"
   ]
  },
  {
   "cell_type": "code",
   "execution_count": 25,
   "metadata": {},
   "outputs": [
    {
     "name": "stdout",
     "output_type": "stream",
     "text": [
      "\n",
      "Response time (T):\n",
      "    mean = 6.617 seconds,\n",
      "    standard deviation = 3.675 seconds\n",
      "\n",
      "Wait time in the queue of Q1 (Tq1):\n",
      "    mean = 1.469 seconds,\n",
      "    standard deviation = 2.779 seconds\n",
      "\n",
      "Wait time in the queue of Q1 (Tq1):\n",
      "    mean = 1.152 seconds,\n",
      "    standard deviation = 1.635 seconds\n",
      "\n"
     ]
    }
   ],
   "source": [
    "scenario3 = run_simulation(create_params(500, 3, 4, 2, 2, 2))\n",
    "\n",
    "display_measures(scenario3)"
   ]
  },
  {
   "cell_type": "code",
   "execution_count": 54,
   "metadata": {},
   "outputs": [
    {
     "data": {
      "image/png": "[encoded data removed]",
      "text/plain": [
       "<Figure size 1152x504 with 1 Axes>"
      ]
     },
     "metadata": {
      "needs_background": "light"
     },
     "output_type": "display_data"
    }
   ],
   "source": [
    "labels = ['Mean response time', 'Standard dev. of response time', 'Mean wait time (Q1)', 'Standard dev. of wait time (Q1)' , 'Mean wait time (Q2)', 'Standard dev. of wait time (Q2)']\n",
    "scenario1_measures = list(get_measures(scenario1).values())\n",
    "scenario2_measures = list(get_measures(scenario2).values())\n",
    "scenario3_measures = list(get_measures(scenario3).values())\n",
    "\n",
    "x = np.arange(len(labels))  # the label locations\n",
    "width = 0.5  # the width of the bars\n",
    "\n",
    "fig, ax = plt.subplots()\n",
    "rects1 = ax.bar(x - width/3, scenario1_measures, width/3, label='500 customers')\n",
    "rects2 = ax.bar(x, scenario2_measures, width/3, label='1000 customers')\n",
    "rects3 = ax.bar(x + width/3, scenario3_measures, width/3, label='1500 customers')\n",
    "\n",
    "# Add some text for labels, title and custom x-axis tick labels, etc.\n",
    "ax.set_ylabel('Time (seconds)')\n",
    "ax.set_title('Comparisons between different scenarios')\n",
    "ax.set_xticks(x, labels)\n",
    "fig.set_size_inches(16,7)\n",
    "ax.legend()\n",
    "\n",
    "ax.bar_label(rects1, padding=3)\n",
    "ax.bar_label(rects2, padding=3)\n",
    "ax.bar_label(rects3, padding=3)\n",
    "\n",
    "fig.tight_layout()\n",
    "\n",
    "plt.show()"
   ]
  },
  {
   "cell_type": "code",
   "execution_count": 58,
   "metadata": {},
   "outputs": [
    {
     "name": "stdout",
     "output_type": "stream",
     "text": [
      "[6.592281722770928, 7.10359613481421, 6.934354968495101, 6.8208092638788855, 6.865003187614376, 7.938655746113232, 6.332665559161784, 7.038729017276799, 7.671859328667486, 6.720703924180143] [6.723737553116196, 6.523923646135383, 6.159569509860725, 6.8196494027563865, 9.319701368773565, 6.289981456956206, 6.149215408090212, 9.087715759357357, 6.727635198263627, 7.603978991687701] [7.048918924692644, 7.21509063116322, 7.293675989768418, 7.441447365835952, 6.813761743308654, 6.971289351078439, 6.773310105550462, 6.337980801863717, 6.930535305814333, 7.068607103215725]\n"
     ]
    }
   ],
   "source": [
    "# I don't know\n",
    "mean_response_times_500 = []\n",
    "mean_response_times_1000 = []\n",
    "mean_response_times_1500 = []\n",
    "\n",
    "for i in range(0, 10):\n",
    "    mean_response_times_500.append(get_measures(run_simulation(create_params(500, 3, 4, 2, 2, 2)))[\"mean_response_time\"])\n",
    "    mean_response_times_1000.append(get_measures(run_simulation(create_params(1000, 3, 4, 2, 2, 2)))[\"mean_response_time\"])\n",
    "    mean_response_times_1500.append(get_measures(run_simulation(create_params(1500, 3, 4, 2, 2, 2)))[\"mean_response_time\"])\n",
    "\n",
    "print(mean_response_times_500, mean_response_times_1000, mean_response_times_1500)"
   ]
  },
  {
   "cell_type": "code",
   "execution_count": 62,
   "metadata": {},
   "outputs": [
    {
     "name": "stdout",
     "output_type": "stream",
     "text": [
      "\n",
      "Skenario dengan banyak customer 500:\n",
      " E[T] = 7.00187 detik\n",
      "\n",
      "Skenario dengan banyak customer 1000:\n",
      " E[T] = 7.14051 detik\n",
      "\n",
      "Skenario dengan banyak customer 1500:\n",
      " E[T] = 6.98946 detik\n",
      "\n"
     ]
    }
   ],
   "source": [
    "print('''\n",
    "Skenario dengan banyak customer 500:\n",
    " E[T] = %.5f detik\n",
    "\n",
    "Skenario dengan banyak customer 1000:\n",
    " E[T] = %.5f detik\n",
    "\n",
    "Skenario dengan banyak customer 1500:\n",
    " E[T] = %.5f detik\n",
    "''' % (np.average(mean_response_times_500), np.average(mean_response_times_1000), np.average(mean_response_times_1500)))"
   ]
  }
 ],
 "metadata": {
  "interpreter": {
   "hash": "83d4c235f93a0d2ab3991b9664758375175be31bd45f50b8db204587436448dc"
  },
  "kernelspec": {
   "display_name": "Python 3.10.4 64-bit",
   "language": "python",
   "name": "python3"
  },
  "language_info": {
   "codemirror_mode": {
    "name": "ipython",
    "version": 3
   },
   "file_extension": ".py",
   "mimetype": "text/x-python",
   "name": "python",
   "nbconvert_exporter": "python",
   "pygments_lexer": "ipython3",
   "version": "3.10.4"
  },
  "orig_nbformat": 4
 },
 "nbformat": 4,
 "nbformat_minor": 2
}
