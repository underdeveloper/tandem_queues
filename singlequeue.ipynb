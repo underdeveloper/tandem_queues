{
 "cells": [
  {
   "cell_type": "markdown",
   "metadata": {},
   "source": [
    "Adapted from [Willie Wheeler's single-queue network simulation](https://medium.com/wwblog/simulating-an-m-m-1-queue-in-python-f894f5a68db2)."
   ]
  },
  {
   "cell_type": "code",
   "execution_count": null,
   "metadata": {},
   "outputs": [],
   "source": [
    "# Imports\n",
    "import numpy as np\n",
    "import pandas as pd\n",
    "import random\n",
    "import matplotlib.pyplot as plt\n",
    "from IPython.display import Markdown"
   ]
  },
  {
   "cell_type": "code",
   "execution_count": null,
   "metadata": {},
   "outputs": [],
   "source": [
    "# Constants, etc.\n",
    "rng = np.random.default_rng(34)\n",
    "\n",
    "TITLE_SIZE = 18\n",
    "HIST_BINS = 51"
   ]
  },
  {
   "cell_type": "markdown",
   "metadata": {},
   "source": [
    "## Queue structure\n",
    "\n",
    "The system is an open queue system.\n",
    "\n",
    "Arrival -> =====](Q1) -> =====](Q2) -> Departure\n",
    "\n",
    "Little's Law:\n",
    "$$ {\\mathbb E}[N] = \\lambda {\\mathbb E}[T] $$"
   ]
  },
  {
   "cell_type": "code",
   "execution_count": null,
   "metadata": {},
   "outputs": [],
   "source": [
    "# Arrival\n",
    "# Arrival time is uniform, interarrival time has boundaries of [1, 5] (mean time of 3s)\n",
    "\n",
    "# Queue Q1\n",
    "# Service time is exponential, service rate m1 = 0.5/s (mean time of 2s)\n",
    "\n",
    "# Queue Q2\n",
    "# Service time is uniform, with boundaries of [1, 3] (mean time of 2s)"
   ]
  },
  {
   "cell_type": "code",
   "execution_count": null,
   "metadata": {},
   "outputs": [],
   "source": [
    "def create_params(num_customers: int, mean_interarrival_time: float, mean_interarrival_range: float, mean_service_time_1: float, mean_service_time_2: float, mean_service_time_2_range: float):\n",
    "    return {\n",
    "        \"n\": num_customers,\n",
    "        \"mean_interarrival_time\": mean_interarrival_time,\n",
    "        \"mean_interarrival_low\": mean_interarrival_time - mean_interarrival_range/2,\n",
    "        \"mean_interarrival_high\": mean_interarrival_time + mean_interarrival_range/2,\n",
    "        \"mean_service_time_1\": mean_service_time_1,\n",
    "        \"mean_service_time_2\": mean_service_time_2,\n",
    "        \"mean_service_time_2_low\": mean_service_time_2 - mean_service_time_2_range/2,\n",
    "        \"mean_service_time_2_high\": mean_service_time_2 + mean_service_time_2_range/2,\n",
    "        \"mean_arrival_rate\": 1.0 / mean_interarrival_time,\n",
    "        \"mean_service_rate_1\": 1.0 / mean_service_time_1,\n",
    "        \"mean_service_rate_2\": 1.0 / mean_service_time_2,\n",
    "        \"num_bins\": int(num_customers * mean_interarrival_time)\n",
    "    }"
   ]
  },
  {
   "cell_type": "code",
   "execution_count": 19,
   "metadata": {},
   "outputs": [],
   "source": [
    "def build_customers_dataframe(params, interarrival_times, arrival_times, service_1_times, service_2_times):\n",
    "    n = params[\"n\"]\n",
    "\n",
    "    customers_df = pd.DataFrame({\n",
    "        \"interarrival_time\": interarrival_times,\n",
    "        \"arrival_time\": arrival_times, # When the customer arrives in the system\n",
    "        \"service_time_1\": service_1_times, # How long the customer is serviced in service 1\n",
    "        \"service_time_2\": service_2_times, # How long the customer is serviced in service 2\n",
    "        \"start_time_1\": np.zeros(n), # When the customer starts being serviced in service 1\n",
    "        \"depart_time_1\": np.zeros(n), # When the customer is done being serviced by service 1\n",
    "        \"start_time_2\": np.zeros(n), # When the customer starts being serviced in service 2\n",
    "        \"depart_time_2\": np.zeros(n), # When the customer departs from the system (aka done being serviced by service 2)\n",
    "        \"response_time\": np.zeros(n), # How long the customer spends within the system\n",
    "        \"wait_time_1\": np.zeros(n), # How long the customer waits in queue 1\n",
    "        \"wait_time_2\": np.zeros(n), # How long the customer waits in queue 2\n",
    "    })\n",
    "\n",
    "    # The first customer is the easiest to document\n",
    "    customers_df.loc[0, \"start_time_1\"] = customers_df.loc[0, \"arrival_time\"]\n",
    "    customers_df.loc[0, \"depart_time_1\"] = customers_df.loc[0, \"start_time_1\"] + customers_df.loc[0, \"service_time_1\"]\n",
    "    customers_df.loc[0, \"start_time_2\"] = customers_df.loc[0, \"depart_time_1\"]\n",
    "    customers_df.loc[0, \"depart_time_2\"] = customers_df.loc[0, \"start_time_2\"] + customers_df.loc[0, \"service_time_2\"]\n",
    "\n",
    "    # Each customer has to wait for the previous customer(s) to finish their stuff first\n",
    "    for i in range(1, n):\n",
    "        # Customer i can only start when customer i-1 is done with the service at hand\n",
    "        customers_df.loc[i, \"start_time_1\"] = max(customers_df.loc[i, \"arrival_time\"], customers_df.loc[i-1, \"depart_time_1\"])\n",
    "        customers_df.loc[i, \"depart_time_2\"] = customers_df.loc[i, \"start_time_1\"] + customers_df.loc[i-1, \"service_time_1\"]\n",
    "        customers_df.loc[i, \"start_time_2\"] = max(customers_df.loc[i, \"depart_time_1\"], customers_df.loc[i-1, \"depart_time_2\"])\n",
    "        customers_df.loc[i, \"depart_time_2\"] = customers_df.loc[i, \"start_time_2\"] + customers_df.loc[i-1, \"service_time_2\"]\n",
    "\n",
    "    customers_df[\"response_time\"] = customers_df[\"depart_time_2\"] - customers_df[\"arrival_time\"]\n",
    "    customers_df[\"wait_time_1\"] = customers_df[\"start_time_1\"] - customers_df[\"arrival_time\"]\n",
    "    customers_df[\"wait_time_2\"] = customers_df[\"start_time_2\"] - customers_df[\"depart_time_1\"]\n",
    "\n",
    "    return customers_df    "
   ]
  },
  {
   "cell_type": "code",
   "execution_count": null,
   "metadata": {},
   "outputs": [],
   "source": [
    "def run_simulation(params):\n",
    "    # Extracting parameters\n",
    "    n = params[\"n\"]\n",
    "    iat = params[\"mean_interarrival_time\"]\n",
    "    ial = params[\"mean_interrarival_low\"]\n",
    "    iah = params[\"mean_interarrival_high\"]\n",
    "    st1 = params[\"mean_service_time_1\"]\n",
    "    st2 = params[\"mean_service_time_2\"]\n",
    "    st2l = params[\"mean_service_time_2_low\"]\n",
    "    st2h = params[\"mean_service_time_2_high\"]\n",
    "\n",
    "    # Sim data\n",
    "    interarrival_times = rng.uniform(low=ial, high=iah, size=n)\n",
    "    arrival_times = np.cumsum(interarrival_times)\n",
    "    service_1_times = rng.exponential(scale=st1, size=n)\n",
    "    service_2_times = rng.uniform(low=st2l, high= st2h, size=n)\n",
    "\n",
    "    customers_df = build_customers_dataframe(params, interarrival_times, arrival_times, service_1_times, service_2_times)\n",
    "\n",
    "    return customers_df"
   ]
  }
 ],
 "metadata": {
  "interpreter": {
   "hash": "83d4c235f93a0d2ab3991b9664758375175be31bd45f50b8db204587436448dc"
  },
  "kernelspec": {
   "display_name": "Python 3.10.4 64-bit",
   "language": "python",
   "name": "python3"
  },
  "language_info": {
   "codemirror_mode": {
    "name": "ipython",
    "version": 3
   },
   "file_extension": ".py",
   "mimetype": "text/x-python",
   "name": "python",
   "nbconvert_exporter": "python",
   "pygments_lexer": "ipython3",
   "version": "3.10.4"
  },
  "orig_nbformat": 4
 },
 "nbformat": 4,
 "nbformat_minor": 2
}
